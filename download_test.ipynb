{
 "cells": [
  {
   "cell_type": "code",
   "execution_count": null,
   "id": "12484fbd-c8d1-4890-8fb2-ee0df14ebb82",
   "metadata": {},
   "outputs": [],
   "source": [
    "import asyncio\n",
    "import planet\n",
    "from planet import Auth, Session, data_filter\n",
    "import getpass\n",
    "import geopandas as gpd\n",
    "import pandas as pd\n",
    "from shapely.geometry import box\n",
    "import json\n",
    "import datetime"
   ]
  },
  {
   "cell_type": "code",
   "execution_count": null,
   "id": "4898482c-8217-42d8-87c7-a611d64c1ef2",
   "metadata": {},
   "outputs": [],
   "source": [
    "user = input(\"Username: \")\n",
    "pw = getpass.getpass(\"Password: \")\n",
    "auth = Auth.from_login(user,pw)\n",
    "auth.store()"
   ]
  },
  {
   "cell_type": "code",
   "execution_count": null,
   "id": "658ab975-e65d-4e23-94eb-216716e46406",
   "metadata": {},
   "outputs": [],
   "source": [
    "class SearchFeatures:\n",
    "    \"\"\"Class to prepare features for Planet api search and order\"\"\"\n",
    "    def __init__(self, features_fp, bounding_box=False):\n",
    "        \"\"\"Initialize the SearchFeatures object.\"\"\"\n",
    "        self.features_fp = features_fp\n",
    "        self.bounding_box = bounding_box\n",
    "        self.gdf = gpd.read_file(features_fp)\n",
    "        self.json_data = None\n",
    "    \n",
    "    def convert_to_wgs(self):\n",
    "        \"\"\"Convert the GeoDataFrame CRS to WGS84 (EPSG:4326).\"\"\"\n",
    "        self.gdf = self.gdf.to_crs(epsg=4326)\n",
    "\n",
    "    def geom_to_bbox(self):\n",
    "        \"\"\"Convert geometries to bounding boxes if specified.\"\"\"\n",
    "        if self.bounding_box:\n",
    "            self.gdf[\"geometry\"] = self.gdf.geometry.apply(lambda geom: box(*geom.bounds))\n",
    "\n",
    "    def features_to_json(self):\n",
    "        \"\"\"Convert features to GeoJSON format.\"\"\"\n",
    "        json_text = self.gdf.to_json()\n",
    "        self.json_data = json.loads(json_text)\n",
    "\n",
    "    def filter_json(self, id_col, id_val):\n",
    "        \"\"\"Filter the GeoJSON features based on a given column and value.\"\"\"\n",
    "        filtered = [d for d in self.json_data[\"features\"] if d[\"properties\"].get(id_col) == id_val]\n",
    "        return filtered[0] if filtered else None\n",
    "\n",
    "    def process(self):\n",
    "        \"\"\"Run all necessary processing and return GeoJSON.\"\"\"\n",
    "        self.convert_to_wgs()\n",
    "        self.geom_to_bbox()\n",
    "        self.features_to_json()\n",
    "        return self.json_data\n",
    "        "
   ]
  },
  {
   "cell_type": "code",
   "execution_count": null,
   "id": "cfb96024-329e-4d57-a71e-0b2d16ecbb26",
   "metadata": {},
   "outputs": [],
   "source": [
    "search_features = SearchFeatures(\"inputs/test_shape.shp\", bounding_box=True)\n",
    "json_data = search_features.process()\n",
    "filtered_feature = search_features.filter_json(\"id\", 1)"
   ]
  },
  {
   "cell_type": "code",
   "execution_count": null,
   "id": "398f35dc-96f3-43cb-9965-341243ec5343",
   "metadata": {},
   "outputs": [],
   "source": [
    "def create_img_filter(start_date, end_date, geometry_filter, max_cloud_percent=10):\n",
    "    start = datetime.datetime.strptime(start_date, \"%Y-%m-%d\")\n",
    "    end = datetime.datetime.strptime(end_date, \"%Y-%m-%d\")\n",
    "    return data_filter.and_filter([\n",
    "        data_filter.permission_filter(),\n",
    "        data_filter.date_range_filter(\"acquired\", gte=start, lte=end),\n",
    "        data_filter.geometry_filter(geometry_filter),\n",
    "        data_filter.range_filter(\"cloud_percent\", lte=max_cloud_percent, gte=0)\n",
    "    ])"
   ]
  },
  {
   "cell_type": "code",
   "execution_count": null,
   "id": "17043cad-aad7-4173-a1cf-90f67fd5bb96",
   "metadata": {},
   "outputs": [],
   "source": [
    "def available_img_to_df(response_lst):\n",
    "    data = []\n",
    "    for item in response_lst:\n",
    "        data.append({\n",
    "            \"id\": item[\"id\"],\n",
    "            \"cloud_percent\": item[\"properties\"][\"cloud_percent\"],\n",
    "            \"satellite_id\": item[\"properties\"][\"satellite_id\"]\n",
    "        })\n",
    "    \n",
    "    return pd.DataFrame(data)"
   ]
  },
  {
   "cell_type": "code",
   "execution_count": null,
   "id": "76e5db31-1a4a-42a5-ac49-5c5db679182a",
   "metadata": {},
   "outputs": [],
   "source": [
    "async def get_available(input_filter):\n",
    "    async with Session() as sess:\n",
    "        cl = sess.client('data')\n",
    "        return [i async for i in cl.search(['PSScene'], input_filter)]\n"
   ]
  },
  {
   "cell_type": "code",
   "execution_count": null,
   "id": "5ce5a5fa-331f-4368-bd41-d619275d733b",
   "metadata": {},
   "outputs": [],
   "source": [
    "search_filter = create_img_filter(\"2024-04-01\", \"2024-05-30\", filtered_feature)\n",
    "available_images = await get_available(search_filter)\n",
    "available_img_to_df(available_images)"
   ]
  },
  {
   "cell_type": "markdown",
   "id": "51384643-14ec-4d1b-9481-a7baf36dd1c7",
   "metadata": {},
   "source": [
    "### Get thumbnail....?"
   ]
  },
  {
   "cell_type": "code",
   "execution_count": null,
   "id": "97dddf3b-badb-4000-9d53-226112e7cc89",
   "metadata": {},
   "outputs": [],
   "source": [
    "def create_request(geom, item_ids, order_ref):\n",
    "   new_order = planet.order_request.build_request(\n",
    "       name=order_ref,\n",
    "       products=[\n",
    "           planet.order_request.product(item_ids=item_ids,\n",
    "                                        product_bundle='analytic_udm2',\n",
    "                                        item_type='PSScene')\n",
    "       ],\n",
    "       tools=[planet.order_request.clip_tool(aoi=geom)])\n",
    "\n",
    "   return new_order"
   ]
  },
  {
   "cell_type": "code",
   "execution_count": null,
   "id": "59681182-28e7-41cd-bc3c-63096dbf0be9",
   "metadata": {},
   "outputs": [],
   "source": [
    "request = create_request(test_geom, [\"20240518_103839_43_24bc\"], \"sg_test_order\")"
   ]
  },
  {
   "cell_type": "code",
   "execution_count": null,
   "id": "33876952-3ffd-4f4f-856b-281c6d69bc0f",
   "metadata": {},
   "outputs": [],
   "source": [
    "async def main(arequest):\n",
    "    # Create a session and client\n",
    "    # The Orders API client is also a subclass of the Session\n",
    "    # class, so it has all the same methods.\n",
    "    async with planet.Session() as sess:\n",
    "\n",
    "        # 'orders' is the service name for the Orders API.\n",
    "        cl = sess.client(\"orders\")\n",
    "        order = await cl.create_order(arequest)\n",
    "        return order\n",
    "\n",
    "new_order = await main(request)"
   ]
  },
  {
   "cell_type": "code",
   "execution_count": null,
   "id": "70f77f37-51b0-4f44-a927-0c3d54934186",
   "metadata": {},
   "outputs": [],
   "source": [
    "from planet import reporting\n",
    "\n",
    "async def create_wait_and_download():\n",
    "    async with Session() as sess:\n",
    "        cl = sess.client('orders')\n",
    "        with reporting.StateBar(state='creating') as bar:\n",
    "            # create order\n",
    "            order = await cl.create_order(request)\n",
    "            bar.update(state='created', order_id=order['id'])\n",
    "\n",
    "            # poll\n",
    "            await cl.wait(order['id'], callback=bar.update_state)\n",
    "\n",
    "        # download\n",
    "        await cl.download_order(order['id'])\n",
    "\n",
    "create_wait_and_download()"
   ]
  },
  {
   "cell_type": "code",
   "execution_count": null,
   "id": "c599bad9-231e-4068-935e-8d71d5b6a4ac",
   "metadata": {},
   "outputs": [],
   "source": [
    "async def create_and_download(client, order_detail, directory):\n",
    "   with planet.reporting.StateBar(state='creating') as reporter:\n",
    "       order = await client.create_order(order_detail)\n",
    "       reporter.update(state='created', order_id=order['id'])\n",
    "       await client.wait(order['id'], callback=reporter.update_state)\n",
    "\n",
    "   await client.download_order(order['id'], directory, progress_bar=True)\n",
    "\n",
    "async def main():\n",
    "   async with planet.Session() as sess:\n",
    "       cl = sess.client('orders')\n",
    "\n",
    "       # Create the order request\n",
    "       request = create_request()\n",
    "\n",
    "       # Create and download the order\n",
    "       order = await create_and_download(cl, request, DOWNLOAD_DIR)\n"
   ]
  }
 ],
 "metadata": {
  "kernelspec": {
   "display_name": "Python 3 (ipykernel)",
   "language": "python",
   "name": "python3"
  },
  "language_info": {
   "codemirror_mode": {
    "name": "ipython",
    "version": 3
   },
   "file_extension": ".py",
   "mimetype": "text/x-python",
   "name": "python",
   "nbconvert_exporter": "python",
   "pygments_lexer": "ipython3",
   "version": "3.12.4"
  }
 },
 "nbformat": 4,
 "nbformat_minor": 5
}
