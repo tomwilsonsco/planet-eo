{
 "cells": [
  {
   "cell_type": "markdown",
   "id": "1bc27c13-63d1-43ac-bf9b-369ae6c19a13",
   "metadata": {},
   "source": [
    "## Planet API search, preview, download image"
   ]
  },
  {
   "cell_type": "markdown",
   "id": "24391668-f37f-4745-8fe0-4336425b3476",
   "metadata": {},
   "source": [
    "Using some of Planet's Python SDK user guidance [here](https://planet-sdk-for-python-v2.readthedocs.io/en/stable/python/sdk-guide/).  \n",
    "Custom functionality to convert shapefile or geopackage features into json for API request and then download clipped images from features.\n",
    "This helps to preserve Planet Account's download allowance for longer if whole image tiles are not required.  "
   ]
  },
  {
   "cell_type": "code",
   "execution_count": null,
   "id": "12484fbd-c8d1-4890-8fb2-ee0df14ebb82",
   "metadata": {},
   "outputs": [],
   "source": [
    "import asyncio\n",
    "import planet\n",
    "from planet import Auth, Session, data_filter, reporting\n",
    "import getpass\n",
    "import geopandas as gpd\n",
    "import pandas as pd\n",
    "from shapely.geometry import box\n",
    "import json\n",
    "import datetime\n",
    "from PIL import Image, ImageOps\n",
    "import matplotlib.pyplot as plt\n",
    "from io import BytesIO"
   ]
  },
  {
   "cell_type": "markdown",
   "id": "e2511719-c9ea-4d87-a474-0306fe2ace28",
   "metadata": {},
   "source": [
    "Do not need to input API key using this method, just Planet username and password as would use to sign in to [Planet Explorer](https://planet.com/explorer)   \n",
    "Credentials are then stored while run the rest of this notebook using planet.Session()"
   ]
  },
  {
   "cell_type": "code",
   "execution_count": null,
   "id": "4898482c-8217-42d8-87c7-a611d64c1ef2",
   "metadata": {},
   "outputs": [],
   "source": [
    "user = input(\"Username: \")\n",
    "pw = getpass.getpass(\"Password: \")\n",
    "auth = Auth.from_login(user,pw)\n",
    "auth.store()"
   ]
  },
  {
   "cell_type": "code",
   "execution_count": null,
   "id": "658ab975-e65d-4e23-94eb-216716e46406",
   "metadata": {},
   "outputs": [],
   "source": [
    "# class for converting input shapefile or geopackage into json for request\n",
    "class SearchFeatures:\n",
    "    \"\"\"Prepare features for Planet api search and order\"\"\"\n",
    "    def __init__(self, features_fp, bounding_box=False):\n",
    "        \"\"\"Initialize the SearchFeatures object.\"\"\"\n",
    "        self.features_fp = features_fp\n",
    "        self.bounding_box = bounding_box\n",
    "        self.gdf = gpd.read_file(features_fp)\n",
    "        self.json_data = None\n",
    "    \n",
    "    def convert_to_wgs(self):\n",
    "        \"\"\"Convert the GeoDataFrame CRS to WGS84 (EPSG:4326).\"\"\"\n",
    "        self.gdf = self.gdf.to_crs(epsg=4326)\n",
    "\n",
    "    def geom_to_bbox(self):\n",
    "        \"\"\"Convert geometries to bounding boxes if specified.\"\"\"\n",
    "        if self.bounding_box:\n",
    "            self.gdf[\"geometry\"] = self.gdf.geometry.apply(lambda geom: box(*geom.bounds))\n",
    "\n",
    "    def features_to_json(self):\n",
    "        \"\"\"Convert features to GeoJSON format.\"\"\"\n",
    "        json_text = self.gdf.to_json()\n",
    "        self.json_data = json.loads(json_text)\n",
    "\n",
    "    def filter_json(self, id_col, id_val):\n",
    "        \"\"\"Filter the GeoJSON features based on a given column and value.\"\"\"\n",
    "        filtered = [d for d in self.json_data[\"features\"] if d[\"properties\"].get(id_col) == id_val]\n",
    "        return filtered[0] if filtered else None\n",
    "\n",
    "    def process(self):\n",
    "        \"\"\"Run all necessary processing and return GeoJSON.\"\"\"\n",
    "        self.convert_to_wgs()\n",
    "        self.geom_to_bbox()\n",
    "        self.features_to_json()\n",
    "        return self.json_data\n",
    "        "
   ]
  },
  {
   "cell_type": "code",
   "execution_count": null,
   "id": "0f933046-b471-4d13-ac45-9797789dca34",
   "metadata": {},
   "outputs": [],
   "source": [
    "# Update this with the input shapefile or geopackage want to use to search for images - should be POLYGON geometries currently\n",
    "INPUT_FEATURES = \"inputs/test_shape.shp\""
   ]
  },
  {
   "cell_type": "code",
   "execution_count": null,
   "id": "cfb96024-329e-4d57-a71e-0b2d16ecbb26",
   "metadata": {},
   "outputs": [],
   "source": [
    "# Using bounding box option to simplify \n",
    "search_features = SearchFeatures(INPUT_FEATURES, bounding_box=True)\n",
    "# Create the search json - for all features\n",
    "json_data = search_features.process()"
   ]
  },
  {
   "cell_type": "code",
   "execution_count": null,
   "id": "bbe31f9d-b680-4c2d-a2b4-b0d5fb2f2fee",
   "metadata": {},
   "outputs": [],
   "source": [
    "# This notebook will just use one feature to search for images as example. Using an attribute column \"ID\" and value of 2:\n",
    "filtered_feature = search_features.filter_json(\"id\", 2)"
   ]
  },
  {
   "cell_type": "code",
   "execution_count": null,
   "id": "398f35dc-96f3-43cb-9965-341243ec5343",
   "metadata": {},
   "outputs": [],
   "source": [
    "def create_img_filter(start_date, end_date, geometry_filter, max_cloud_percent=10):\n",
    "    \"\"\"Build a planet search filter using images have access permission, data range, geometry, overall image tile cloud percent\"\"\" \n",
    "    start = datetime.datetime.strptime(start_date, \"%Y-%m-%d\")\n",
    "    end = datetime.datetime.strptime(end_date, \"%Y-%m-%d\")\n",
    "    return data_filter.and_filter([\n",
    "        data_filter.permission_filter(),\n",
    "        data_filter.date_range_filter(\"acquired\", gte=start, lte=end),\n",
    "        data_filter.geometry_filter(geometry_filter),\n",
    "        data_filter.range_filter(\"cloud_percent\", lte=max_cloud_percent, gte=0)\n",
    "    ])"
   ]
  },
  {
   "cell_type": "code",
   "execution_count": null,
   "id": "17043cad-aad7-4173-a1cf-90f67fd5bb96",
   "metadata": {},
   "outputs": [],
   "source": [
    "def available_img_to_df(response_lst):\n",
    "    \"\"\"Put the search response into a Pandas data frame for easy review, export etc\"\"\"\n",
    "    data = []\n",
    "    for item in response_lst:\n",
    "        data.append({\n",
    "            \"id\": item[\"id\"],\n",
    "            \"cloud_percent\": item[\"properties\"][\"cloud_percent\"],\n",
    "            \"satellite_id\": item[\"properties\"][\"satellite_id\"],\n",
    "            \"thumbnail_link\": item[\"_links\"][\"thumbnail\"]\n",
    "        })\n",
    "    \n",
    "    return pd.DataFrame(data)"
   ]
  },
  {
   "cell_type": "code",
   "execution_count": null,
   "id": "76e5db31-1a4a-42a5-ac49-5c5db679182a",
   "metadata": {},
   "outputs": [],
   "source": [
    "async def get_available(input_filter):\n",
    "    \"\"\"Run the asynchronous search to find images\"\"\"\n",
    "    async with Session() as sess:\n",
    "        cl = sess.client('data')\n",
    "        return [i async for i in cl.search(['PSScene'], input_filter)]\n"
   ]
  },
  {
   "cell_type": "code",
   "execution_count": null,
   "id": "5ce5a5fa-331f-4368-bd41-d619275d733b",
   "metadata": {},
   "outputs": [],
   "source": [
    "# Create the filter specifying dates, geometry json, optionally cloud cover percent\n",
    "search_filter = create_img_filter(\"2024-04-01\", \"2024-05-30\", filtered_feature)\n",
    "# Run the search\n",
    "available_images = await get_available(search_filter)\n",
    "# Extract relevant info from search result into dataframe (just view available_images object if want to see full response)\n",
    "search_df = available_img_to_df(available_images)\n",
    "# View data frame\n",
    "search_df"
   ]
  },
  {
   "cell_type": "code",
   "execution_count": null,
   "id": "36ccf81c-67b1-4f35-bfbc-822bae908853",
   "metadata": {},
   "outputs": [],
   "source": [
    "# Can plot the thumbnails, but note these are not georeferenced\n",
    "class PreviewPlot:\n",
    "    \"\"\"Plot thumbnail image overviews from image search result dataframe.\"\"\"\n",
    "    def __init__(self, search_df):\n",
    "        \"\"\"Initialise PreviewPlot\"\"\"\n",
    "        self.df = search_df\n",
    "        self.current_row = 0\n",
    "        self.max_row = search_df.shape[0] - 1\n",
    "        self.current_link = None\n",
    "        self.current_title = None\n",
    "    def thumbnail_plot(self, image_data):\n",
    "        \"\"\"Request response to plot\"\"\"\n",
    "        img = Image.open(BytesIO(image_data))\n",
    "        img = img.convert(\"RGB\")\n",
    "        img = ImageOps.autocontrast(img)\n",
    "        plt.figure(figsize=(20, 20))\n",
    "        plt.imshow(img)\n",
    "        plt.axis(\"off\")\n",
    "        plt.title(f\"Image ID: {self.current_title}\", fontsize=24, color='red')\n",
    "        plt.show()\n",
    "    def update_link(self):\n",
    "        \"\"\"Get current row thumbnail link\"\"\"\n",
    "        self.current_link = self.df.iloc[self.current_row][\"thumbnail_link\"]\n",
    "    def update_title(self):\n",
    "        \"\"\"Get current row image id for plot title\"\"\"\n",
    "        self.current_title = self.df.iloc[self.current_row][\"id\"]\n",
    "    async def fetch_thumbnail(self, thumbnail_url):\n",
    "        \"\"\"Thumbnail URL request\"\"\"\n",
    "        async with Session() as sess:\n",
    "            response = await sess.request(\"GET\", url=f\"{thumbnail_url}?width=2048\")\n",
    "            return response._http_response.content\n",
    "    async def view_thumbnail(self):\n",
    "        \"\"\"Overall method to view a thumbnail and increment current row\"\"\"\n",
    "        print(f\"plotting thumbnail {self.current_row + 1} of {self.max_row + 1}..\")\n",
    "        self.update_link()\n",
    "        self.update_title()\n",
    "        image_data = await self.fetch_thumbnail(self.current_link)\n",
    "        self.thumbnail_plot(image_data)\n",
    "        if self.current_row < self.max_row:\n",
    "            self.current_row += 1\n",
    "        else:\n",
    "            self.current_row = 0"
   ]
  },
  {
   "cell_type": "code",
   "execution_count": null,
   "id": "f663154c-9e9f-4d8e-b74c-0e309a225247",
   "metadata": {},
   "outputs": [],
   "source": [
    "# Create instance of the class\n",
    "preview = PreviewPlot(search_df)"
   ]
  },
  {
   "cell_type": "code",
   "execution_count": null,
   "id": "5db17157-1b0f-497e-a8e2-50985c8ffabb",
   "metadata": {},
   "outputs": [],
   "source": [
    "# Run this cell repeatedly to preview each search result image in turn\n",
    "await preview.view_thumbnail()"
   ]
  },
  {
   "cell_type": "code",
   "execution_count": null,
   "id": "97dddf3b-badb-4000-9d53-226112e7cc89",
   "metadata": {},
   "outputs": [],
   "source": [
    "def create_request(item_ids, clip_geom, order_ref):\n",
    "    \"\"\"Build the order request\"\"\"\n",
    "   new_order = planet.order_request.build_request(\n",
    "       name=order_ref,\n",
    "       products=[\n",
    "           planet.order_request.product(item_ids=item_ids,\n",
    "                                        product_bundle=\"analytic_udm2\",\n",
    "                                        item_type=\"PSScene\")\n",
    "       ],\n",
    "       tools=[planet.order_request.clip_tool(aoi=clip_geom)])\n",
    "\n",
    "   return new_order"
   ]
  },
  {
   "cell_type": "code",
   "execution_count": null,
   "id": "70f77f37-51b0-4f44-a927-0c3d54934186",
   "metadata": {},
   "outputs": [],
   "source": [
    "async def create_wait_and_download(input_request, download_directory):\n",
    "    \"\"\"Make the order, then wait and download\"\"\"\n",
    "    async with Session() as sess:\n",
    "        cl = sess.client('orders')\n",
    "        with reporting.StateBar(state='creating') as bar:\n",
    "            # create order\n",
    "            order = await cl.create_order(input_request)\n",
    "            bar.update(state='created', order_id=order['id'])\n",
    "            # poll\n",
    "            await cl.wait(order['id'], callback=bar.update_state)\n",
    "        # download\n",
    "        await cl.download_order(order['id'], download_directory, progress_bar = True)"
   ]
  },
  {
   "cell_type": "code",
   "execution_count": null,
   "id": "8ed9cf07-408b-4e3e-9f00-cf4992c84914",
   "metadata": {},
   "outputs": [],
   "source": [
    "# Make the request\n",
    "request = create_request([\"20240518_103839_43_24bc\"], test_geom, \"sg_test_order\")\n",
    "# Download to outputs dir in repository when ready (change this to full path if want different output dir\n",
    "create_wait_and_download(request, \"outputs\")"
   ]
  }
 ],
 "metadata": {
  "kernelspec": {
   "display_name": "Python 3 (ipykernel)",
   "language": "python",
   "name": "python3"
  },
  "language_info": {
   "codemirror_mode": {
    "name": "ipython",
    "version": 3
   },
   "file_extension": ".py",
   "mimetype": "text/x-python",
   "name": "python",
   "nbconvert_exporter": "python",
   "pygments_lexer": "ipython3",
   "version": "3.12.4"
  }
 },
 "nbformat": 4,
 "nbformat_minor": 5
}
