{
 "cells": [
  {
   "cell_type": "markdown",
   "id": "1bc27c13-63d1-43ac-bf9b-369ae6c19a13",
   "metadata": {},
   "source": [
    "## Planet API search, preview, download image"
   ]
  },
  {
   "cell_type": "markdown",
   "id": "24391668-f37f-4745-8fe0-4336425b3476",
   "metadata": {},
   "source": [
    "Using some of Planet's Python SDK user guidance [here](https://planet-sdk-for-python-v2.readthedocs.io/en/stable/python/sdk-guide/).  \n",
    "Custom functionality to convert shapefile or geopackage features into json for API request and then download clipped images from features.\n",
    "This helps to preserve Planet Account's download allowance for longer if whole image tiles are not required.  "
   ]
  },
  {
   "cell_type": "code",
   "execution_count": null,
   "id": "12484fbd-c8d1-4890-8fb2-ee0df14ebb82",
   "metadata": {
    "editable": true,
    "slideshow": {
     "slide_type": ""
    },
    "tags": []
   },
   "outputs": [],
   "source": [
    "import asyncio\n",
    "import planet\n",
    "from planet import Auth, Session, data_filter, reporting\n",
    "import getpass\n",
    "import pandas as pd\n",
    "import json\n",
    "import datetime"
   ]
  },
  {
   "cell_type": "code",
   "execution_count": null,
   "id": "2113c8d1-8f2f-4154-a8dc-782dce925ade",
   "metadata": {
    "editable": true,
    "slideshow": {
     "slide_type": ""
    },
    "tags": []
   },
   "outputs": [],
   "source": [
    "# import custom classes created in this repo\n",
    "from utils.features_to_json import SearchFeatures\n",
    "from utils.thumbnail_plot import PreviewPlot"
   ]
  },
  {
   "cell_type": "markdown",
   "id": "e2511719-c9ea-4d87-a474-0306fe2ace28",
   "metadata": {},
   "source": [
    "Do not need to input API key using this method, just Planet username and password as would use to sign in to [Planet Explorer](https://planet.com/explorer)   \n",
    "Credentials are then stored while run the rest of this notebook using planet.Session()"
   ]
  },
  {
   "cell_type": "code",
   "execution_count": null,
   "id": "4898482c-8217-42d8-87c7-a611d64c1ef2",
   "metadata": {
    "editable": true,
    "slideshow": {
     "slide_type": ""
    },
    "tags": []
   },
   "outputs": [],
   "source": [
    "user = input(\"Username: \")\n",
    "pw = getpass.getpass(\"Password: \")\n",
    "auth = Auth.from_login(user, pw)\n",
    "auth.store()"
   ]
  },
  {
   "cell_type": "code",
   "execution_count": null,
   "id": "0f933046-b471-4d13-ac45-9797789dca34",
   "metadata": {
    "editable": true,
    "slideshow": {
     "slide_type": ""
    },
    "tags": []
   },
   "outputs": [],
   "source": [
    "# Update this with the input shapefile or geopackage want to use to search for images - should be POLYGON geometries currently\n",
    "INPUT_FEATURES = \"inputs/test_shape.shp\""
   ]
  },
  {
   "cell_type": "code",
   "execution_count": null,
   "id": "cfb96024-329e-4d57-a71e-0b2d16ecbb26",
   "metadata": {
    "editable": true,
    "slideshow": {
     "slide_type": ""
    },
    "tags": []
   },
   "outputs": [],
   "source": [
    "# Using bounding box option to simplify\n",
    "search_features = SearchFeatures(INPUT_FEATURES, bounding_box=True)\n",
    "# Create the search json - for all features\n",
    "json_data = search_features.process()"
   ]
  },
  {
   "cell_type": "code",
   "execution_count": null,
   "id": "bbe31f9d-b680-4c2d-a2b4-b0d5fb2f2fee",
   "metadata": {
    "editable": true,
    "slideshow": {
     "slide_type": ""
    },
    "tags": []
   },
   "outputs": [],
   "source": [
    "# This notebook will just use one feature to search for images as example. Using an attribute column \"ID\" and value of 2:\n",
    "# Note the json id value might not be the same as the one under 'properties' derived from the input data attribute table\n",
    "filtered_feature = search_features.filter_json(\"id\", 2)\n",
    "filtered_feature"
   ]
  },
  {
   "cell_type": "code",
   "execution_count": null,
   "id": "398f35dc-96f3-43cb-9965-341243ec5343",
   "metadata": {},
   "outputs": [],
   "source": [
    "def create_img_filter(start_date, end_date, geometry_filter, max_cloud_percent=10):\n",
    "    \"\"\"Build a planet search filter using images have access permission, data range, geometry, overall image tile cloud percent\"\"\"\n",
    "    start = datetime.datetime.strptime(start_date, \"%Y-%m-%d\")\n",
    "    end = datetime.datetime.strptime(end_date, \"%Y-%m-%d\")\n",
    "    return data_filter.and_filter(\n",
    "        [\n",
    "            data_filter.permission_filter(),\n",
    "            data_filter.date_range_filter(\"acquired\", gte=start, lte=end),\n",
    "            data_filter.geometry_filter(geometry_filter),\n",
    "            data_filter.range_filter(\"cloud_percent\", lte=max_cloud_percent, gte=0),\n",
    "        ]\n",
    "    )"
   ]
  },
  {
   "cell_type": "code",
   "execution_count": null,
   "id": "17043cad-aad7-4173-a1cf-90f67fd5bb96",
   "metadata": {},
   "outputs": [],
   "source": [
    "def available_img_to_df(response_lst):\n",
    "    \"\"\"Put the search response into a Pandas data frame for easy review, export etc\"\"\"\n",
    "    data = []\n",
    "    for item in response_lst:\n",
    "        data.append(\n",
    "            {\n",
    "                \"id\": item[\"id\"],\n",
    "                \"cloud_percent\": item[\"properties\"][\"cloud_percent\"],\n",
    "                \"satellite_id\": item[\"properties\"][\"satellite_id\"],\n",
    "                \"thumbnail_link\": item[\"_links\"][\"thumbnail\"],\n",
    "            }\n",
    "        )\n",
    "\n",
    "    return pd.DataFrame(data)"
   ]
  },
  {
   "cell_type": "code",
   "execution_count": null,
   "id": "76e5db31-1a4a-42a5-ac49-5c5db679182a",
   "metadata": {},
   "outputs": [],
   "source": [
    "async def get_available(input_filter):\n",
    "    \"\"\"Run the asynchronous search to find images\"\"\"\n",
    "    async with Session() as sess:\n",
    "        cl = sess.client(\"data\")\n",
    "        return [i async for i in cl.search([\"PSScene\"], input_filter)]"
   ]
  },
  {
   "cell_type": "code",
   "execution_count": null,
   "id": "5ce5a5fa-331f-4368-bd41-d619275d733b",
   "metadata": {},
   "outputs": [],
   "source": [
    "# Create the filter specifying dates, geometry json, optionally cloud cover percent\n",
    "search_filter = create_img_filter(\"2024-04-01\", \"2024-05-30\", filtered_feature)\n",
    "# Run the search\n",
    "available_images = await get_available(search_filter)\n",
    "# Extract relevant info from search result into dataframe (just view available_images object if want to see full response)\n",
    "search_df = available_img_to_df(available_images)\n",
    "# View data frame\n",
    "search_df"
   ]
  },
  {
   "cell_type": "code",
   "execution_count": null,
   "id": "f663154c-9e9f-4d8e-b74c-0e309a225247",
   "metadata": {
    "editable": true,
    "slideshow": {
     "slide_type": ""
    },
    "tags": []
   },
   "outputs": [],
   "source": [
    "# Create instance of the class\n",
    "preview = PreviewPlot(search_df)"
   ]
  },
  {
   "cell_type": "code",
   "execution_count": null,
   "id": "5db17157-1b0f-497e-a8e2-50985c8ffabb",
   "metadata": {},
   "outputs": [],
   "source": [
    "# Run this cell repeatedly to preview each search result image in turn\n",
    "await preview.view_thumbnail()"
   ]
  },
  {
   "cell_type": "code",
   "execution_count": null,
   "id": "97dddf3b-badb-4000-9d53-226112e7cc89",
   "metadata": {},
   "outputs": [],
   "source": [
    "def create_request(item_ids, clip_geom, order_ref):\n",
    "    \"\"\"Build the order request\"\"\"\n",
    "    new_order = planet.order_request.build_request(\n",
    "        name=order_ref,\n",
    "        products=[\n",
    "            planet.order_request.product(\n",
    "                item_ids=item_ids, product_bundle=\"analytic_udm2\", item_type=\"PSScene\"\n",
    "            )\n",
    "        ],\n",
    "        tools=[planet.order_request.clip_tool(aoi=clip_geom)],\n",
    "    )\n",
    "\n",
    "    return new_order"
   ]
  },
  {
   "cell_type": "code",
   "execution_count": null,
   "id": "70f77f37-51b0-4f44-a927-0c3d54934186",
   "metadata": {},
   "outputs": [],
   "source": [
    "async def create_wait_and_download(input_request, download_directory):\n",
    "    \"\"\"Make the order, then wait and download\"\"\"\n",
    "    async with Session() as sess:\n",
    "        cl = sess.client(\"orders\")\n",
    "        with reporting.StateBar(state=\"creating\") as bar:\n",
    "            # create order\n",
    "            order = await cl.create_order(input_request)\n",
    "            bar.update(state=\"created\", order_id=order[\"id\"])\n",
    "            # poll\n",
    "            await cl.wait(order[\"id\"], callback=bar.update_state)\n",
    "        # download\n",
    "        await cl.download_order(order[\"id\"], download_directory, progress_bar=True)"
   ]
  },
  {
   "cell_type": "code",
   "execution_count": null,
   "id": "8ed9cf07-408b-4e3e-9f00-cf4992c84914",
   "metadata": {},
   "outputs": [],
   "source": [
    "# Find the image id from the pandas df or thumbnail preview plot above\n",
    "IMAGE_ID = \"20240518_103510_39_24ca\"\n",
    "# Make the request - image id in a list, if ordering multiple can replace with a list of all\n",
    "request = create_request([IMAGE_ID], filtered_feature, \"sg_test_order\")\n",
    "# Download to outputs dir in repository when ready (change this to full path if want different output dir\n",
    "await create_wait_and_download(request, \"outputs\")"
   ]
  }
 ],
 "metadata": {
  "kernelspec": {
   "display_name": "Python 3 (ipykernel)",
   "language": "python",
   "name": "python3"
  },
  "language_info": {
   "codemirror_mode": {
    "name": "ipython",
    "version": 3
   },
   "file_extension": ".py",
   "mimetype": "text/x-python",
   "name": "python",
   "nbconvert_exporter": "python",
   "pygments_lexer": "ipython3",
   "version": "3.12.4"
  }
 },
 "nbformat": 4,
 "nbformat_minor": 5
}
