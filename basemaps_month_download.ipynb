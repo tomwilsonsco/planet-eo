{
 "cells": [
  {
   "cell_type": "code",
   "execution_count": null,
   "id": "1202d341-f163-41fa-a332-f94b6abf9fd6",
   "metadata": {
    "editable": true,
    "slideshow": {
     "slide_type": ""
    },
    "tags": []
   },
   "outputs": [],
   "source": [
    "import asyncio\n",
    "import requests\n",
    "import planet\n",
    "from planet import Auth, Session, data_filter, reporting\n",
    "import getpass\n",
    "from pathlib import Path"
   ]
  },
  {
   "cell_type": "code",
   "execution_count": null,
   "id": "4b6f6862-935d-4dd6-9e69-cd82d77c7e4f",
   "metadata": {},
   "outputs": [],
   "source": [
    "# import custom classes created in this repo\n",
    "from utils.features_to_json import SearchFeatures\n",
    "from utils.thumbnail_plot import PreviewPlot"
   ]
  },
  {
   "cell_type": "markdown",
   "id": "ee3ec9a5-2e61-4cb5-a237-ca9d185b1152",
   "metadata": {},
   "source": [
    "[Makes use of this example](https://github.com/planetlabs/notebooks/blob/master/jupyter-notebooks/Basemaps-API/basemaps_api_introduction.ipynb) but:\n",
    "\n",
    "- simplifies it as we only have access to one basemap product - \"ps_monthly_sen2_normalized_analytic_8b_sr_subscription_{year_month}_mosaic\"\n",
    "- Reads input shapefile to get bounding box coords for one feature for API search - Planet examples do not cover this\n",
    "- Uses Planets Python SDK and asynchio, so no need to input API key, just login to Planet account\n"
   ]
  },
  {
   "cell_type": "markdown",
   "id": "8b8bfcd9-e87e-4244-bc75-84aa604f8597",
   "metadata": {},
   "source": [
    "## Setup\n",
    "Do not need to input API key using this method, just Planet username and password as would use to sign in to [Planet Explorer](https://planet.com/explorer)   \n",
    "Credentials are then stored while run the rest of this notebook using planet.Session()"
   ]
  },
  {
   "cell_type": "code",
   "execution_count": null,
   "id": "0cdee0c6-333a-426e-ad0d-ed079c7b743a",
   "metadata": {},
   "outputs": [],
   "source": [
    "user = input(\"Planet Username (email): \")\n",
    "pw = getpass.getpass(\"Planet Password: \")\n",
    "auth = Auth.from_login(user, pw)\n",
    "auth.store()"
   ]
  },
  {
   "cell_type": "code",
   "execution_count": null,
   "id": "57c2a88d-ac69-41df-ae89-f97384795223",
   "metadata": {
    "editable": true,
    "slideshow": {
     "slide_type": ""
    },
    "tags": []
   },
   "outputs": [],
   "source": [
    "# base url for Planet basemaps\n",
    "BASE_URL = \"https://api.planet.com/basemaps/v1/mosaics/\""
   ]
  },
  {
   "cell_type": "code",
   "execution_count": null,
   "id": "d4110e5d-47dc-459b-9086-a1107812b1ef",
   "metadata": {},
   "outputs": [],
   "source": [
    "# for our trial available Nov 2023 - Oct 2024\n",
    "BASEMAP_YEAR_MONTH = \"2024_10\""
   ]
  },
  {
   "cell_type": "markdown",
   "id": "9aced4d5-d295-49e1-a477-2a0d6df4b189",
   "metadata": {},
   "source": [
    "## Prepare search features\n",
    "Read an input search file. In this case instead of request using json for area of interest geometry will pass a string of bounding box coordinates"
   ]
  },
  {
   "cell_type": "code",
   "execution_count": null,
   "id": "f781b011-b709-4fc1-9f1b-221cbef6ab90",
   "metadata": {
    "editable": true,
    "scrolled": true,
    "slideshow": {
     "slide_type": ""
    },
    "tags": []
   },
   "outputs": [],
   "source": [
    "INPUT_FEATURES = \"inputs/test_shape.shp\"\n",
    "\n",
    "# Initiate instance of custom class. Using bounding box option to simplify\n",
    "search_features = SearchFeatures(INPUT_FEATURES, bounding_box=True)\n",
    "# Create the search json - for all features\n",
    "json_data = search_features.process()"
   ]
  },
  {
   "cell_type": "code",
   "execution_count": null,
   "id": "899db337-a188-4244-8b23-6752abeb3889",
   "metadata": {},
   "outputs": [],
   "source": [
    "# select one feature from the json. In this case the input shapefile has a field called \"id\" and we want id 2.\n",
    "filtered_feature = search_features.filter_json(\"id\", 1)\n",
    "# The simplest way to do the basemap search is using bounding box coords in decimal degrees (minx, miny, maxx, maxy)\n",
    "# that is what will be used in this example\n",
    "search_box = search_features.json_to_bbox_string(filtered_feature)\n",
    "# show what this looks like\n",
    "search_box"
   ]
  },
  {
   "cell_type": "markdown",
   "id": "2ea8333c-398a-4796-b9f4-d40917ef319b",
   "metadata": {},
   "source": [
    "## Search for basemap quads for feature of interest\n",
    "Need to extract the mosaic id and then find the quads"
   ]
  },
  {
   "cell_type": "code",
   "execution_count": null,
   "id": "7a0c7dbb-d658-4ff6-af66-f11b00f975c7",
   "metadata": {
    "editable": true,
    "slideshow": {
     "slide_type": ""
    },
    "tags": []
   },
   "outputs": [],
   "source": [
    "# We are just searching one month with access to one basemap product, so should be one mosaic id.\n",
    "\n",
    "basemap_name = f\"ps_monthly_sen2_normalized_analytic_8b_sr_subscription_{BASEMAP_YEAR_MONTH}_mosaic\"\n",
    "\n",
    "async with Session() as sess:\n",
    "    res = await sess.request(\"GET\", f\"{BASE_URL}\", params={\"name__is\": basemap_name})\n",
    "mosaic_json = res.json()\n",
    "\n",
    "mosaic_id = mosaic_json[\"mosaics\"][0][\"id\"]"
   ]
  },
  {
   "cell_type": "code",
   "execution_count": null,
   "id": "c689792b-6fbc-40b0-80f6-5b9d6eff2752",
   "metadata": {
    "editable": true,
    "slideshow": {
     "slide_type": ""
    },
    "tags": []
   },
   "outputs": [],
   "source": [
    "# Then search for the quads\n",
    "quads_url = f\"{BASE_URL}{mosaic_id}/quads\"\n",
    "async with Session() as sess:\n",
    "    res = await sess.request(\"GET\", f\"{quads_url}\", params={\"bbox\": search_box})\n",
    "quad_json = res.json()"
   ]
  },
  {
   "cell_type": "markdown",
   "id": "e8ffadec-9a10-4338-b14d-6f1f2dc497a8",
   "metadata": {},
   "source": [
    "## Download quads \n",
    "The quads are 16 bit tif images and they seem to have 9 bands, but 8 bands of spectral data"
   ]
  },
  {
   "cell_type": "code",
   "execution_count": null,
   "id": "27526dc2-fa49-46c1-b6c2-8e18fe554596",
   "metadata": {},
   "outputs": [],
   "source": [
    "# extract quad id and download link into a dict\n",
    "downloads_dict = {}\n",
    "for item in quad_json[\"items\"]:\n",
    "    downloads_dict[item[\"id\"]] = item[\"_links\"][\"download\"]"
   ]
  },
  {
   "cell_type": "code",
   "execution_count": null,
   "id": "add422f0-0e49-43a2-ae47-7647e02c2885",
   "metadata": {},
   "outputs": [],
   "source": [
    "def download_quad(id_val, link, output_directory, year_month):\n",
    "    \"\"\"Download quads to specified directory\n",
    "    each quad is saved into a <mosaic_name>_<year>_<month> subdirectory\"\"\"\n",
    "    try:\n",
    "        # Download the file\n",
    "        response = requests.get(link, stream=True)\n",
    "        response.raise_for_status()  # Raise an error for bad responses\n",
    "\n",
    "        mosaic_dir = (\n",
    "            Path(output_directory)\n",
    "            / f\"ps_monthly_sen2_normalized_analytic_8b_sr_subscription_{year_month}_mosaic\"\n",
    "        )\n",
    "        mosaic_dir.mkdir(exist_ok=True)\n",
    "\n",
    "        # Save the file with the new name\n",
    "        save_path = Path(mosaic_dir / f\"{id_val}.tif\")\n",
    "        with open(save_path, \"wb\") as file:\n",
    "            for chunk in response.iter_content(chunk_size=8192):\n",
    "                file.write(chunk)\n",
    "        print(f\"Image downloaded as: {save_path}\")\n",
    "    except requests.exceptions.RequestException as e:\n",
    "        print(f\"Failed to download image: {e}\")"
   ]
  },
  {
   "cell_type": "code",
   "execution_count": null,
   "id": "baefe067-3ad2-4ccd-869a-0553ff6d3d3f",
   "metadata": {},
   "outputs": [],
   "source": [
    "# Download images to this repository's outputs directory (could set an absolute path to another dir if required).\n",
    "for key, val in downloads_dict.items():\n",
    "    download_quad(key, val, \"outputs\", BASEMAP_YEAR_MONTH)"
   ]
  }
 ],
 "metadata": {
  "kernelspec": {
   "display_name": "Python 3 (ipykernel)",
   "language": "python",
   "name": "python3"
  },
  "language_info": {
   "codemirror_mode": {
    "name": "ipython",
    "version": 3
   },
   "file_extension": ".py",
   "mimetype": "text/x-python",
   "name": "python",
   "nbconvert_exporter": "python",
   "pygments_lexer": "ipython3",
   "version": "3.12.4"
  }
 },
 "nbformat": 4,
 "nbformat_minor": 5
}
